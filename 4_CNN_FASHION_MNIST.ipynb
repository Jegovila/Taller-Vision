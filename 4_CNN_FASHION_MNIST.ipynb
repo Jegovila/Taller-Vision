{
  "cells": [
    {
      "cell_type": "markdown",
      "metadata": {
        "id": "view-in-github",
        "colab_type": "text"
      },
      "source": [
        "<a href=\"https://colab.research.google.com/github/Jegovila/Taller-Vision/blob/main/4_CNN_FASHION_MNIST.ipynb\" target=\"_parent\"><img src=\"https://colab.research.google.com/assets/colab-badge.svg\" alt=\"Open In Colab\"/></a>"
      ]
    },
    {
      "cell_type": "code",
      "execution_count": null,
      "metadata": {
        "id": "iZp1yRBxXzar"
      },
      "outputs": [],
      "source": [
        "import numpy as np\n",
        "import matplotlib.pyplot as plt\n",
        "\n",
        "from tensorflow import keras\n",
        "from keras.datasets import fashion_mnist\n",
        "from keras.models import Sequential\n",
        "from keras.layers import Dense, Flatten\n",
        "from keras.layers import Conv2D, MaxPooling2D\n",
        "\n",
        "from sklearn import metrics\n",
        "\n",
        "!wget -nc \"https://raw.githubusercontent.com/Jegovila/Taller-Vision/main/datasetCNN/shoe.jpg\""
      ]
    },
    {
      "cell_type": "code",
      "execution_count": null,
      "metadata": {
        "id": "6meuuplBZb0A"
      },
      "outputs": [],
      "source": [
        "(xtrain, ytrain), (xtest, ytest) = fashion_mnist.load_data()"
      ]
    },
    {
      "cell_type": "code",
      "execution_count": null,
      "metadata": {
        "id": "BJO8iztwZ1Ma"
      },
      "outputs": [],
      "source": [
        "number = np.random.randint(0,60000);\n",
        "\n",
        "plt.imshow(xtrain[number],cmap=plt.cm.gray)\n",
        "plt.title('numer = ' + str(ytrain[number]))\n",
        "plt.show()\n",
        "\n",
        "# 0 T-shirt/top\n",
        "# 1 Trouser\n",
        "# 2 Pullover\n",
        "# 3 Dress\n",
        "# 4 Coat\n",
        "# 5 Sandal\n",
        "# 6 Shirt\n",
        "# 7 Sneaker\n",
        "# 8 Bag\n",
        "# 9 Ankle boot"
      ]
    },
    {
      "cell_type": "code",
      "execution_count": 7,
      "metadata": {
        "id": "UFkZpT8gaCPr"
      },
      "outputs": [],
      "source": [
        "xtrain = xtrain.astype('float32')/255\n",
        "xtest = xtest.astype('float32')/255"
      ]
    },
    {
      "cell_type": "code",
      "execution_count": null,
      "metadata": {
        "id": "jDeckhQlaG6i"
      },
      "outputs": [],
      "source": [
        "print(np.shape(xtrain))"
      ]
    },
    {
      "cell_type": "code",
      "execution_count": 9,
      "metadata": {
        "id": "1RGWieBqaFTw"
      },
      "outputs": [],
      "source": [
        "xtrain = xtrain.reshape(xtrain.shape[0], 28, 28, 1)\n",
        "xtest = xtest.reshape(xtest.shape[0], 28, 28, 1)"
      ]
    },
    {
      "cell_type": "code",
      "execution_count": 10,
      "metadata": {
        "id": "Ey8iYwAZaWfE"
      },
      "outputs": [],
      "source": [
        "ytrain = keras.utils.to_categorical(ytrain, 10)\n",
        "ytest = keras.utils.to_categorical(ytest, 10)"
      ]
    },
    {
      "cell_type": "code",
      "execution_count": 11,
      "metadata": {
        "id": "K1Ikf2qxab3S"
      },
      "outputs": [],
      "source": [
        "model = Sequential()\n",
        "\n",
        "# Añadimos la primera capa\n",
        "model.add(Conv2D(25,kernel_size=(3,3),strides=(1,1),padding='same',activation='relu',input_shape=(28,28,1)))\n",
        "model.add(MaxPooling2D(pool_size=(2,2)))\n",
        "\n",
        "# Añadimos la segunda capa\n",
        "model.add(Conv2D(25,kernel_size=(3,3),strides=(1,1),padding='same',activation='relu'))\n",
        "model.add(MaxPooling2D(pool_size=(2,2)))\n",
        "\n",
        "# Hacemos un flatten para poder usar una red fully connected\n",
        "model.add(Flatten())\n",
        "model.add(Dense(100,activation='relu'))\n",
        "model.add(Dense(100,activation='relu'))\n",
        "\n",
        "# Añadimos una capa softmax para que podamos clasificar las imágenes\n",
        "model.add(Dense(10,activation='softmax'))\n",
        "\n",
        "model.compile(loss='categorical_crossentropy',optimizer='adam',metrics=['accuracy'])"
      ]
    },
    {
      "cell_type": "code",
      "execution_count": null,
      "metadata": {
        "id": "4ByyT5cWawAm"
      },
      "outputs": [],
      "source": [
        "hist = model.fit(xtrain,ytrain,batch_size=64,epochs=6,verbose=1,validation_data=(xtest,ytest))"
      ]
    },
    {
      "cell_type": "code",
      "execution_count": null,
      "metadata": {
        "id": "y7pQju9Wb_xi"
      },
      "outputs": [],
      "source": [
        "# summarize history for accuracy\n",
        "plt.figure()\n",
        "plt.grid()\n",
        "plt.plot(hist.history['accuracy'],lw=2)\n",
        "plt.plot(hist.history['val_accuracy'],lw=2)\n",
        "plt.title('model accuracy')\n",
        "plt.ylabel('accuracy')\n",
        "plt.xlabel('epoch')\n",
        "plt.legend(['train', 'test'], loc='upper left')\n",
        "plt.show()\n",
        "\n",
        "# summarize history for loss\n",
        "plt.figure()\n",
        "plt.grid()\n",
        "plt.plot(hist.history['loss'],lw=2)\n",
        "plt.plot(hist.history['val_loss'],lw=2)\n",
        "plt.title('model loss')\n",
        "plt.ylabel('loss')\n",
        "plt.xlabel('epoch')\n",
        "plt.legend(['train', 'test'], loc='upper left')\n",
        "plt.show()"
      ]
    },
    {
      "cell_type": "code",
      "execution_count": null,
      "metadata": {
        "id": "2FIPwNcacE_t"
      },
      "outputs": [],
      "source": [
        "ypred = model.predict(xtest)\n",
        "\n",
        "y_pred = np.argmax(ypred,axis=1)\n",
        "y_test = np.argmax(ytest,axis=1)\n",
        "\n",
        "# Matriz de Confusión\n",
        "print('Confusion matrix: \\n', metrics.confusion_matrix(y_test,y_pred))"
      ]
    },
    {
      "cell_type": "code",
      "source": [
        "model.save('CNN_Model_Fashion_Mnist.h5')"
      ],
      "metadata": {
        "id": "h9MBYwqMbz4M"
      },
      "execution_count": null,
      "outputs": []
    },
    {
      "cell_type": "code",
      "source": [
        "model = keras.models.load_model('CNN_Model_Fashion_Mnist.h5')"
      ],
      "metadata": {
        "id": "la0XJrCAb4Ck"
      },
      "execution_count": 16,
      "outputs": []
    },
    {
      "cell_type": "code",
      "source": [
        "patron = xtest[np.random.randint(0,10000)].reshape(1,28,28,1)\n",
        "\n",
        "number = np.argmax(model.predict(patron),axis=1);\n",
        "\n",
        "plt.imshow(patron[0,:,:])\n",
        "plt.title('Prediction: ' + str(number))\n",
        "plt.show()\n",
        "\n",
        "# 0 T-shirt/top\n",
        "# 1 Trouser\n",
        "# 2 Pullover\n",
        "# 3 Dress\n",
        "# 4 Coat\n",
        "# 5 Sandal\n",
        "# 6 Shirt\n",
        "# 7 Sneaker\n",
        "# 8 Bag\n",
        "# 9 Ankle boot"
      ],
      "metadata": {
        "id": "2PWqBZ8Vb5d8"
      },
      "execution_count": null,
      "outputs": []
    },
    {
      "cell_type": "code",
      "source": [
        "import cv2\n",
        "\n",
        "img = cv2.imread('shoe.jpg')\n",
        "img = cv2.cvtColor(img, cv2.COLOR_BGR2GRAY)\n",
        "img = cv2.resize(img,(28,28))\n",
        "\n",
        "patron = img.reshape(1,28,28,1)/255\n",
        "\n",
        "number = np.argmax(model.predict(patron),axis=1);\n",
        "\n",
        "plt.imshow(patron[0,:,:])\n",
        "plt.title('Prediction: ' + str(number))\n",
        "plt.show()\n",
        "\n",
        "# 0 T-shirt/top\n",
        "# 1 Trouser\n",
        "# 2 Pullover\n",
        "# 3 Dress\n",
        "# 4 Coat\n",
        "# 5 Sandal\n",
        "# 6 Shirt\n",
        "# 7 Sneaker\n",
        "# 8 Bag\n",
        "# 9 Ankle boot"
      ],
      "metadata": {
        "id": "peAAJWlHcCXz"
      },
      "execution_count": null,
      "outputs": []
    }
  ],
  "metadata": {
    "colab": {
      "provenance": [],
      "gpuType": "T4",
      "include_colab_link": true
    },
    "kernelspec": {
      "display_name": "Python 3",
      "name": "python3"
    },
    "language_info": {
      "name": "python"
    },
    "accelerator": "GPU"
  },
  "nbformat": 4,
  "nbformat_minor": 0
}