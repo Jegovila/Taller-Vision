{
  "nbformat": 4,
  "nbformat_minor": 0,
  "metadata": {
    "colab": {
      "provenance": [],
      "gpuType": "T4",
      "include_colab_link": true
    },
    "kernelspec": {
      "name": "python3",
      "display_name": "Python 3"
    },
    "accelerator": "GPU"
  },
  "cells": [
    {
      "cell_type": "markdown",
      "metadata": {
        "id": "view-in-github",
        "colab_type": "text"
      },
      "source": [
        "<a href=\"https://colab.research.google.com/github/Jegovila/Taller-Vision/blob/main/1_CNN_MNIST.ipynb\" target=\"_parent\"><img src=\"https://colab.research.google.com/assets/colab-badge.svg\" alt=\"Open In Colab\"/></a>"
      ]
    },
    {
      "cell_type": "code",
      "metadata": {
        "id": "d_g0YiOaDWw8"
      },
      "source": [
        "import numpy as np\n",
        "import matplotlib.pyplot as plt\n",
        "\n",
        "from tensorflow import keras\n",
        "from keras.datasets import mnist\n",
        "from keras.models import Sequential\n",
        "from keras.layers import Dense, Flatten\n",
        "from keras.layers import Conv2D, MaxPooling2D\n",
        "\n",
        "from sklearn import metrics\n",
        "import cv2\n",
        "\n",
        "!wget -nc \"https://raw.githubusercontent.com/Jegovila/Taller-Vision/main/datasetCNN/tres.png\""
      ],
      "execution_count": null,
      "outputs": []
    },
    {
      "cell_type": "code",
      "metadata": {
        "id": "nDNU3tV6EgV0"
      },
      "source": [
        "(xtrain, ytrain), (xtest, ytest) = mnist.load_data()"
      ],
      "execution_count": null,
      "outputs": []
    },
    {
      "cell_type": "code",
      "metadata": {
        "id": "mYJOue_57mH3"
      },
      "source": [
        "print(ytrain)"
      ],
      "execution_count": null,
      "outputs": []
    },
    {
      "cell_type": "code",
      "metadata": {
        "id": "AC9OBxoKEo1b"
      },
      "source": [
        "number = np.random.randint(0,60000);\n",
        "\n",
        "plt.imshow(xtrain[number],cmap=plt.cm.gray)\n",
        "plt.title('numer = ' + str(ytrain[number]))\n",
        "plt.show()"
      ],
      "execution_count": null,
      "outputs": []
    },
    {
      "cell_type": "code",
      "metadata": {
        "id": "r_vCVzjvFF55"
      },
      "source": [
        "xtrain = xtrain.astype('float32')/255\n",
        "xtest = xtest.astype('float32')/255\n",
        "\n",
        "xtrain = xtrain.reshape(xtrain.shape[0], 28, 28, 1)\n",
        "xtest = xtest.reshape(xtest.shape[0], 28, 28, 1)"
      ],
      "execution_count": null,
      "outputs": []
    },
    {
      "cell_type": "code",
      "metadata": {
        "id": "Oig0eEtJFhGR"
      },
      "source": [
        "ytrain = keras.utils.to_categorical(ytrain, 10)\n",
        "ytest = keras.utils.to_categorical(ytest, 10)"
      ],
      "execution_count": null,
      "outputs": []
    },
    {
      "cell_type": "code",
      "metadata": {
        "id": "oN8SzsuyF3IL"
      },
      "source": [
        "model = Sequential()\n",
        "\n",
        "# Añadimos la primera capa\n",
        "model.add(Conv2D(25,kernel_size=(3,3),strides=(1,1),padding='same',activation='relu',input_shape=(28,28,1)))\n",
        "model.add(MaxPooling2D(pool_size=(2,2)))\n",
        "\n",
        "# Añadimos la segunda capa\n",
        "model.add(Conv2D(25,kernel_size=(3,3),strides=(1,1),padding='same',activation='relu'))\n",
        "model.add(MaxPooling2D(pool_size=(2,2)))\n",
        "\n",
        "# Hacemos un flatten para poder usar una red fully connected\n",
        "model.add(Flatten())\n",
        "model.add(Dense(50,activation='relu'))\n",
        "model.add(Dense(25,activation='relu'))\n",
        "\n",
        "# Añadimos una capa softmax para que podamos clasificar las imágenes\n",
        "model.add(Dense(10,activation='softmax'))\n",
        "\n",
        "model.compile(loss='categorical_crossentropy',optimizer='adam',metrics=['accuracy'])\n",
        "\n",
        "# loss <- funcion de perdida\n",
        "# keras.losses.categorical_crossentropy <- clasificacion multiclase\n",
        "# keras.losses.binary_crossentropy <- clasificacion binaria\n",
        "# keras.losses.mean_squared_error <- regresion"
      ],
      "execution_count": null,
      "outputs": []
    },
    {
      "cell_type": "code",
      "metadata": {
        "id": "lPrCVANrGQD_"
      },
      "source": [
        "hist = model.fit(xtrain,ytrain,batch_size=64,epochs=6,verbose=1,validation_data=(xtest,ytest))\n",
        "\n",
        "# loss, accuracy <- para entrenamiento\n",
        "# val_loss, val_accuracy <- para validacion"
      ],
      "execution_count": null,
      "outputs": []
    },
    {
      "cell_type": "code",
      "metadata": {
        "id": "YfwfSIYdm1Iw"
      },
      "source": [
        "# summarize history for accuracy\n",
        "plt.figure()\n",
        "plt.grid()\n",
        "plt.plot(hist.history['accuracy'],lw=2)\n",
        "plt.plot(hist.history['val_accuracy'],lw=2)\n",
        "plt.title('model accuracy')\n",
        "plt.ylabel('accuracy')\n",
        "plt.xlabel('epoch')\n",
        "plt.legend(['train', 'test'], loc='upper left')\n",
        "plt.show()\n",
        "\n",
        "# summarize history for loss\n",
        "plt.figure()\n",
        "plt.grid()\n",
        "plt.plot(hist.history['loss'],lw=2)\n",
        "plt.plot(hist.history['val_loss'],lw=2)\n",
        "plt.title('model loss')\n",
        "plt.ylabel('loss')\n",
        "plt.xlabel('epoch')\n",
        "plt.legend(['train', 'test'], loc='upper left')\n",
        "plt.show()"
      ],
      "execution_count": null,
      "outputs": []
    },
    {
      "cell_type": "code",
      "metadata": {
        "id": "XxepZA4VpLE8"
      },
      "source": [
        "ypred = model.predict(xtest)\n",
        "\n",
        "y_pred = np.argmax(ypred,axis=1)\n",
        "y_test = np.argmax(ytest,axis=1)\n",
        "\n",
        "# Métricas\n",
        "print('Metricas: \\n', metrics.classification_report(y_test,y_pred))\n",
        "\n",
        "# Matriz de Confusión\n",
        "print('Confusion matrix: \\n', metrics.confusion_matrix(y_test,y_pred))"
      ],
      "execution_count": null,
      "outputs": []
    },
    {
      "cell_type": "code",
      "metadata": {
        "id": "h0At0SfOakqI"
      },
      "source": [
        "model.save('CNN_Model_MNIST.h5')"
      ],
      "execution_count": null,
      "outputs": []
    },
    {
      "cell_type": "code",
      "metadata": {
        "id": "DwYFVPuZL301"
      },
      "source": [
        "model = keras.models.load_model('CNN_Model_MNIST.h5')"
      ],
      "execution_count": null,
      "outputs": []
    },
    {
      "cell_type": "code",
      "metadata": {
        "id": "mqhCOezzLrGO"
      },
      "source": [
        "patron = xtest[np.random.randint(0,10000)].reshape(1,28,28,1)\n",
        "\n",
        "number = np.argmax(model.predict(patron),axis=1);\n",
        "\n",
        "plt.imshow(patron[0,:,:,0],cmap=plt.cm.gray)\n",
        "plt.title('Prediction: ' + str(number))\n",
        "plt.show()"
      ],
      "execution_count": null,
      "outputs": []
    },
    {
      "cell_type": "code",
      "metadata": {
        "id": "u6wOWAcQecr9"
      },
      "source": [
        "img = cv2.imread('tres.png')\n",
        "img_gray = cv2.cvtColor(img,cv2.COLOR_BGR2GRAY)\n",
        "\n",
        "th, img_bn = cv2.threshold(img_gray, 100, 255, cv2.THRESH_BINARY_INV)\n",
        "img_bn = cv2.resize(img_bn, (28,28))\n",
        "\n",
        "patron = img_bn.reshape(1,28,28,1)/255\n",
        "\n",
        "predection = model.predict(patron);\n",
        "number = np.argmax(model.predict(patron),axis=1);\n",
        "\n",
        "plt.imshow(patron[0,:,:,0],cmap=plt.cm.gray)\n",
        "plt.title('Prediction: ' + str(number))\n",
        "plt.show()"
      ],
      "execution_count": null,
      "outputs": []
    }
  ]
}