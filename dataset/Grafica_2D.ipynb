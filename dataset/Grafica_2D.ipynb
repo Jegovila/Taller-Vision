{
  "nbformat": 4,
  "nbformat_minor": 0,
  "metadata": {
    "colab": {
      "provenance": [],
      "authorship_tag": "ABX9TyN31rt7XmHh7ic4yMkc5tsQ",
      "include_colab_link": true
    },
    "kernelspec": {
      "name": "python3",
      "display_name": "Python 3"
    },
    "language_info": {
      "name": "python"
    }
  },
  "cells": [
    {
      "cell_type": "markdown",
      "metadata": {
        "id": "view-in-github",
        "colab_type": "text"
      },
      "source": [
        "<a href=\"https://colab.research.google.com/github/Jegovila/tallerCV/blob/main/dataset/Grafica_2D.ipynb\" target=\"_parent\"><img src=\"https://colab.research.google.com/assets/colab-badge.svg\" alt=\"Open In Colab\"/></a>"
      ]
    },
    {
      "cell_type": "markdown",
      "source": [
        "## **Grafica_2D**"
      ],
      "metadata": {
        "id": "zmPBop8k-yI0"
      }
    },
    {
      "cell_type": "code",
      "source": [
        "import matplotlib.pyplot as plt\n",
        "import numpy as np"
      ],
      "metadata": {
        "id": "hzztHOZV_Hwy"
      },
      "execution_count": null,
      "outputs": []
    },
    {
      "cell_type": "markdown",
      "source": [
        "Función objetivo"
      ],
      "metadata": {
        "id": "4wKrUol4-6-D"
      }
    },
    {
      "cell_type": "code",
      "execution_count": null,
      "metadata": {
        "id": "Dg2BtxOV-NX-"
      },
      "outputs": [],
      "source": [
        "def f(x):\n",
        "   return x**4 + 5*(x**3) + 4*(x**2) - 4*x + 1"
      ]
    },
    {
      "cell_type": "markdown",
      "source": [
        "Graficar la función"
      ],
      "metadata": {
        "id": "qcX9mkix_DI3"
      }
    },
    {
      "cell_type": "code",
      "source": [
        "x = np.linspace(-4, 1, 100) # 100 elementos\n",
        "xi = -0.8\n",
        "\n",
        "plt.plot(x, f(x), color='red') # Graficar función\n",
        "plt.plot(xi,f(xi), marker=\"o\", markersize=12) # Graficar punto xi\n",
        "\n",
        "#Etiquetas\n",
        "plt.title(\"Gráfica\")\n",
        "plt.xlabel('x')\n",
        "plt.ylabel('f(x)')"
      ],
      "metadata": {
        "id": "xhFIdcAf_Es3"
      },
      "execution_count": null,
      "outputs": []
    }
  ]
}