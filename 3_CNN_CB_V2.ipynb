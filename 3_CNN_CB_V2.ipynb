{
  "nbformat": 4,
  "nbformat_minor": 0,
  "metadata": {
    "colab": {
      "provenance": [],
      "gpuType": "T4",
      "include_colab_link": true
    },
    "kernelspec": {
      "name": "python3",
      "display_name": "Python 3"
    },
    "accelerator": "GPU"
  },
  "cells": [
    {
      "cell_type": "markdown",
      "metadata": {
        "id": "view-in-github",
        "colab_type": "text"
      },
      "source": [
        "<a href=\"https://colab.research.google.com/github/Jegovila/Taller-Vision/blob/main/3_CNN_CB_V2.ipynb\" target=\"_parent\"><img src=\"https://colab.research.google.com/assets/colab-badge.svg\" alt=\"Open In Colab\"/></a>"
      ]
    },
    {
      "cell_type": "code",
      "metadata": {
        "id": "d_g0YiOaDWw8"
      },
      "source": [
        "import numpy as np\n",
        "import matplotlib.pyplot as plt\n",
        "import matplotlib.image as mpimg\n",
        "\n",
        "from tensorflow import keras\n",
        "from keras.datasets import cifar10\n",
        "from keras.models import Sequential\n",
        "from keras.layers import Dense, Flatten, Dropout\n",
        "from keras.layers import Conv2D, MaxPooling2D\n",
        "\n",
        "from sklearn import metrics\n",
        "\n",
        "!wget -nc \"https://raw.githubusercontent.com/Jegovila/Taller-Vision/main/datasetCNN/frog.jpg\""
      ],
      "execution_count": null,
      "outputs": []
    },
    {
      "cell_type": "code",
      "metadata": {
        "id": "nDNU3tV6EgV0"
      },
      "source": [
        "(xtrain, ytrain), (xtest, ytest) = cifar10.load_data()\n",
        "\n",
        "# 0 <- airplane\n",
        "# 1 <- automobile\n",
        "# 2 <- bird\n",
        "# 3 <- cat\n",
        "# 4 <- deer\n",
        "# 5 <- dog\n",
        "# 6 <- frog\n",
        "# 7 <- horse\n",
        "# 8 <- ship\n",
        "# 9 <- truck"
      ],
      "execution_count": null,
      "outputs": []
    },
    {
      "cell_type": "code",
      "metadata": {
        "id": "AC9OBxoKEo1b"
      },
      "source": [
        "number = np.random.randint(0,50000);\n",
        "\n",
        "plt.imshow(xtrain[number])\n",
        "plt.title('numer = ' + str(ytrain[number]))\n",
        "plt.show()"
      ],
      "execution_count": null,
      "outputs": []
    },
    {
      "cell_type": "code",
      "metadata": {
        "id": "r_vCVzjvFF55"
      },
      "source": [
        "xtrain = xtrain.astype('float32')/255\n",
        "xtest = xtest.astype('float32')/255\n",
        "\n",
        "xtrain = xtrain.reshape(xtrain.shape[0], 32, 32, 3)\n",
        "xtest = xtest.reshape(xtest.shape[0], 32, 32, 3)"
      ],
      "execution_count": 4,
      "outputs": []
    },
    {
      "cell_type": "code",
      "metadata": {
        "id": "Oig0eEtJFhGR"
      },
      "source": [
        "ytrain = keras.utils.to_categorical(ytrain, 10)\n",
        "ytest = keras.utils.to_categorical(ytest, 10)"
      ],
      "execution_count": 5,
      "outputs": []
    },
    {
      "cell_type": "code",
      "metadata": {
        "id": "oN8SzsuyF3IL"
      },
      "source": [
        "model = Sequential()\n",
        "\n",
        "# Añadimos la primera capa\n",
        "model.add(Conv2D(32,kernel_size=(3,3),padding='same',activation='relu',input_shape=(32,32,3)))\n",
        "model.add(MaxPooling2D(pool_size=(2,2)))\n",
        "model.add(Dropout(0.2)) # regularización\n",
        "\n",
        "# Añadimos capa\n",
        "model.add(Conv2D(64,kernel_size=(3,3),padding='same',activation='relu'))\n",
        "model.add(MaxPooling2D(pool_size=(2,2)))\n",
        "model.add(Dropout(0.2)) # regularización\n",
        "\n",
        "# Añadimos capa\n",
        "model.add(Conv2D(128,kernel_size=(3,3),padding='same',activation='relu'))\n",
        "model.add(MaxPooling2D(pool_size=(2,2)))\n",
        "model.add(Dropout(0.2)) # regularización\n",
        "\n",
        "# Hacemos un flatten para poder usar una red fully connected\n",
        "model.add(Flatten())\n",
        "\n",
        "model.add(Dense(64,activation='relu'))\n",
        "model.add(Dropout(0.2)) # regularización\n",
        "\n",
        "model.add(Dense(32,activation='relu'))\n",
        "model.add(Dropout(0.2)) # regularización\n",
        "\n",
        "# Añadimos una capa softmax para que podamos clasificar las imágenes\n",
        "model.add(Dense(10,activation='softmax'))\n",
        "\n",
        "model.compile(loss=keras.losses.categorical_crossentropy,optimizer='adam',metrics=['accuracy'])"
      ],
      "execution_count": 6,
      "outputs": []
    },
    {
      "cell_type": "code",
      "metadata": {
        "id": "lPrCVANrGQD_"
      },
      "source": [
        "hist = model.fit(xtrain,ytrain,batch_size=128,epochs=50,verbose=1,validation_data=(xtest,ytest))"
      ],
      "execution_count": null,
      "outputs": []
    },
    {
      "cell_type": "code",
      "metadata": {
        "id": "8_wsmsqSsoq7"
      },
      "source": [
        "# summarize history for accuracy\n",
        "plt.figure()\n",
        "plt.grid()\n",
        "plt.plot(hist.history['accuracy'],lw=2)\n",
        "plt.plot(hist.history['val_accuracy'],lw=2)\n",
        "plt.title('model accuracy')\n",
        "plt.ylabel('accuracy')\n",
        "plt.xlabel('epoch')\n",
        "plt.legend(['train', 'test'], loc='upper left')\n",
        "plt.show()\n",
        "\n",
        "# summarize history for loss\n",
        "plt.figure()\n",
        "plt.grid()\n",
        "plt.plot(hist.history['loss'],lw=2)\n",
        "plt.plot(hist.history['val_loss'],lw=2)\n",
        "plt.title('model loss')\n",
        "plt.ylabel('loss')\n",
        "plt.xlabel('epoch')\n",
        "plt.legend(['train', 'test'], loc='upper left')\n",
        "plt.show()"
      ],
      "execution_count": null,
      "outputs": []
    },
    {
      "cell_type": "code",
      "metadata": {
        "id": "goaEywyjsu3j"
      },
      "source": [
        "ypred = model.predict(xtest)\n",
        "\n",
        "y_pred = np.argmax(ypred,axis=1)\n",
        "y_test = np.argmax(ytest,axis=1)\n",
        "\n",
        "# Métricas\n",
        "print('Metricas: \\n', metrics.classification_report(y_test,y_pred))\n",
        "\n",
        "# Matriz de Confusión\n",
        "print('Confusion matrix: \\n', metrics.confusion_matrix(y_test,y_pred))"
      ],
      "execution_count": null,
      "outputs": []
    },
    {
      "cell_type": "code",
      "metadata": {
        "id": "h0At0SfOakqI"
      },
      "source": [
        "model.save('CNN_Model_CIFAR10.h5')"
      ],
      "execution_count": null,
      "outputs": []
    },
    {
      "cell_type": "code",
      "metadata": {
        "id": "luz7wrGvs3La"
      },
      "source": [
        "model = keras.models.load_model('CNN_Model_CIFAR10.h5')"
      ],
      "execution_count": 11,
      "outputs": []
    },
    {
      "cell_type": "code",
      "metadata": {
        "id": "mqhCOezzLrGO"
      },
      "source": [
        "patron = xtest[np.random.randint(0,10000)].reshape(1,32,32,3)\n",
        "\n",
        "number = np.argmax(model.predict(patron),axis=1);\n",
        "\n",
        "plt.imshow(patron[0,:,:])\n",
        "plt.title('Prediction: ' + str(number))\n",
        "plt.show()\n",
        "\n",
        "# 0 <- airplane\n",
        "# 1 <- automobile\n",
        "# 2 <- bird\n",
        "# 3 <- cat\n",
        "# 4 <- deer\n",
        "# 5 <- dog\n",
        "# 6 <- frog\n",
        "# 7 <- horse\n",
        "# 8 <- ship\n",
        "# 9 <- truck"
      ],
      "execution_count": null,
      "outputs": []
    },
    {
      "cell_type": "code",
      "metadata": {
        "id": "u6wOWAcQecr9"
      },
      "source": [
        "import cv2\n",
        "\n",
        "img = cv2.imread('frog.jpg')\n",
        "img = cv2.cvtColor(img, cv2.COLOR_BGR2RGB)\n"
        "\n",
        "img = cv2.resize(img,(32,32))\n",
        "\n",
        "patron = img.reshape(1,32,32,3)/255\n",
        "\n",
        "number = np.argmax(model.predict(patron),axis=1);\n",
        "\n",
        "plt.imshow(patron[0,:,:])\n",
        "plt.title('Prediction: ' + str(number))\n",
        "plt.show()\n",
        "\n",
        "# 0 <- airplane\n",
        "# 1 <- automobile\n",
        "# 2 <- bird\n",
        "# 3 <- cat\n",
        "# 4 <- deer\n",
        "# 5 <- dog\n",
        "# 6 <- frog\n",
        "# 7 <- horse\n",
        "# 8 <- ship\n",
        "# 9 <- truck"
      ],
      "execution_count": null,
      "outputs": []
    }
  ]
}
